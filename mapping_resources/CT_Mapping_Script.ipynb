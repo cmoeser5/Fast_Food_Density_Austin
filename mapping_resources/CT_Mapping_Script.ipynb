{
 "cells": [
  {
   "cell_type": "markdown",
   "metadata": {},
   "source": [
    "## Creating Census Tract Map"
   ]
  },
  {
   "cell_type": "code",
   "execution_count": null,
   "metadata": {},
   "outputs": [],
   "source": [
    "%load_ext lab_black\n",
    "\n",
    "#### Dependencies and packages\n",
    "import os\n",
    "import matplotlib.pyplot as plt\n",
    "import pandas as pd\n",
    "import numpy as np\n",
    "import pandas as pd\n",
    "import json\n",
    "import geopandas as gpd\n",
    "\n",
    "\n",
    "# Plot the census tracts from the US Census Bureau's shapefile using geopandas.\n",
    "from shapely.geometry import Point, LineString\n",
    "\n",
    "map_df = gpd.read_file(\"shapefile/tl_2010_48453_tract10.shp\")\n",
    "map_df = map_df.rename(columns={\"GEOID10\": \"Census Tract\"})\n",
    "map_df\n",
    "\n",
    "file_to_load = \"../Data/mrgdata_food.csv\"\n",
    "\n",
    "dfmrgdata = pd.read_csv(file_to_load)\n",
    "dfmrgdata\n",
    "\n",
    "# Match the datatypes\n",
    "map_df[\"Census Tract\"] = map_df[\"Census Tract\"].astype(\"int64\")\n",
    "df_all_data = pd.merge(map_df, dfmrgdata, on=\"Census Tract\", how=\"inner\",)\n",
    "\n",
    "# Export to CSV\n",
    "df_all_data.to_csv(\"../resources/merge_shp_acs_cdc.csv\")\n",
    "\n",
    "# Create a plot using geopandas and choropleth of census tract\n",
    "_, ax = plt.subplots(figsize=(18, 18))\n",
    "\n",
    "# Match the datatypes\n",
    "\n",
    "map_df[[\"INTPTLAT10\", \"INTPTLON10\"]] = map_df[[\"INTPTLAT10\", \"INTPTLON10\"]].astype(\n",
    "    \"float64\"\n",
    ")\n",
    "\n",
    "\n",
    "# Render the glyphs\n",
    "vmax_data = 10000\n",
    "vmin_data = 0\n",
    "map_df.plot(ax=ax, color=\"grey\", edgecolor=\"blue\", alpha=0.2)\n",
    "df_all_data.plot(\n",
    "    ax=ax, column=\"Total Male\", cmap=\"YlOrRd\", linewidth=0.8, edgecolor=\"0.8\",\n",
    ")\n",
    "\n",
    "\n",
    "# Label census tracts\n",
    "for idx, row in map_df.iterrows():\n",
    "    plt.annotate(\n",
    "        text=row[\"TRACTCE10\"],\n",
    "        xy=(row[\"INTPTLON10\"], row[\"INTPTLAT10\"]),\n",
    "        horizontalalignment=\"center\",\n",
    "        clip_on=True,\n",
    "    )\n",
    "\n",
    "\n",
    "# Set the limits of the plot\n",
    "# To get a zommed out view use: (-97.919881, -97.589348, 30.139918,30.426626)\n",
    "# For zoomed map use : (-97.81, -97.68, 30.22, 30.325)\n",
    "bbox = (-97.919881, -97.589348, 30.139918, 30.426626)\n",
    "plt.xlim(bbox[0], bbox[1])\n",
    "plt.ylim(bbox[2], bbox[3])\n",
    "\n",
    "plt.axis(\"off\")\n",
    "plt.title(\"Total Population Male Census Tract\", fontsize=20)\n",
    "census_tract = plt.cm.ScalarMappable(\n",
    "    cmap=\"YlOrRd\", norm=plt.Normalize(vmin=vmin_data, vmax=vmax_data)\n",
    ")\n",
    "\n",
    "plt.colorbar(census_tract, fraction=0.015, aspect=50)\n",
    "# plt.savefig(\"XXX/XXXXXXTITLEXXXX.png\")\n",
    "plt.show()"
   ]
  },
  {
   "cell_type": "markdown",
   "metadata": {},
   "source": [
    "## Creating Census Tract Scatter Map"
   ]
  },
  {
   "cell_type": "code",
   "execution_count": null,
   "metadata": {},
   "outputs": [],
   "source": [
    "from api_keys import map_box_token\n",
    "import plotly.express as px\n",
    "\n",
    "px.set_mapbox_access_token(map_box_token)\n",
    "\n",
    "fig = px.scatter_mapbox(\n",
    "    df_all_data,\n",
    "    lat=\"Lat_bp\",\n",
    "    lon=\"Lng_bp\",\n",
    "    color=\"Total Male\",\n",
    "    size=\"Total Male\",\n",
    "    color_continuous_scale=px.colors.cyclical.IceFire,\n",
    "    size_max=15,\n",
    "    zoom=10,\n",
    ")\n",
    "fig.show()"
   ]
  },
  {
   "cell_type": "markdown",
   "metadata": {},
   "source": [
    "## Creating Census Tract Density Map (Point)"
   ]
  },
  {
   "cell_type": "code",
   "execution_count": null,
   "metadata": {},
   "outputs": [],
   "source": [
    "import pandas as pd\n",
    "\n",
    "import plotly.express as px\n",
    "\n",
    "fig = px.density_mapbox(\n",
    "    df_all_data,\n",
    "    lat=\"Lat_bp\",\n",
    "    lon=\"Lng_bp\",\n",
    "    z=\"Data_Value_chol\",\n",
    "    radius=10,\n",
    "    center=dict(lat=30.22, lon=-97.71),\n",
    "    zoom=10,\n",
    "    mapbox_style=\"stamen-terrain\",\n",
    ")\n",
    "fig.show()"
   ]
  },
  {
   "cell_type": "markdown",
   "metadata": {},
   "source": [
    "## Importing GEOJSON (TBD - Still Testing)"
   ]
  },
  {
   "cell_type": "code",
   "execution_count": null,
   "metadata": {},
   "outputs": [],
   "source": [
    "import plotly.graph_objects as go\n",
    "import pandas as pd\n",
    "import json\n",
    "\n",
    "with open(\"shapefile/Boundaries_ Austin MSA Census Tracts 2010.geojson\") as json_file:\n",
    "    ct_boundary = json.load(json_file)\n",
    "\n",
    "fig = go.Figure(data=[go.Scattermapbox(lat=[0], lon=[0])])\n",
    "\n",
    "fig.update_layout(\n",
    "    margin={\"r\": 0, \"t\": 0, \"l\": 0, \"b\": 0},\n",
    "    mapbox=go.layout.Mapbox(\n",
    "        style=\"stamen-terrain\",\n",
    "        zoom=12,\n",
    "        center_lat=30.2672,\n",
    "        center_lon=-97.7431,\n",
    "        layers=[{\"sourcetype\": \"geojson\", \"source\": ct_boundary, \"type\": \"line\",}],\n",
    "    ),\n",
    ")\n",
    "fig.show()"
   ]
  }
 ],
 "metadata": {
  "environment": {
   "name": "common-cpu.m54",
   "type": "gcloud",
   "uri": "gcr.io/deeplearning-platform-release/base-cpu:m54"
  },
  "kernelspec": {
   "display_name": "Python 3",
   "language": "python",
   "name": "python3"
  },
  "language_info": {
   "codemirror_mode": {
    "name": "ipython",
    "version": 3
   },
   "file_extension": ".py",
   "mimetype": "text/x-python",
   "name": "python",
   "nbconvert_exporter": "python",
   "pygments_lexer": "ipython3",
   "version": "3.7.8"
  }
 },
 "nbformat": 4,
 "nbformat_minor": 4
}
