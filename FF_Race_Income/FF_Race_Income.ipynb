{
 "cells": [
  {
   "cell_type": "code",
   "execution_count": 1,
   "metadata": {},
   "outputs": [],
   "source": [
    "%load_ext lab_black"
   ]
  },
  {
   "cell_type": "code",
   "execution_count": 2,
   "metadata": {},
   "outputs": [],
   "source": [
    "import pandas as pd\n",
    "import matplotlib.pyplot as plt\n",
    "import scipy.stats as st\n",
    "import numpy as np"
   ]
  },
  {
   "cell_type": "code",
   "execution_count": 3,
   "metadata": {},
   "outputs": [],
   "source": [
    "datafile = \"../Data/mrgdata_food.csv\""
   ]
  },
  {
   "cell_type": "code",
   "execution_count": 4,
   "metadata": {},
   "outputs": [],
   "source": [
    "df = pd.read_csv(datafile)"
   ]
  },
  {
   "cell_type": "code",
   "execution_count": 5,
   "metadata": {},
   "outputs": [],
   "source": [
    "df_median = (\n",
    "    pd.DataFrame([df[\"Median Income (dollars)\"], df[\"Number of Fast Food\"]])\n",
    "    .transpose()\n",
    "    .replace({\"Median Income (dollars)\": \"-\"}, 0)\n",
    "    .astype(\"int64\")\n",
    "    .sort_values(by=[\"Median Income (dollars)\"], ascending=True)\n",
    ")"
   ]
  },
  {
   "cell_type": "code",
   "execution_count": 6,
   "metadata": {},
   "outputs": [],
   "source": [
    "# df_median = df_median.replace({\"Median Income (dollars)\": \"-\"}, 0)"
   ]
  },
  {
   "cell_type": "code",
   "execution_count": 7,
   "metadata": {},
   "outputs": [],
   "source": [
    "# df_median = df_median.astype('int64')"
   ]
  },
  {
   "cell_type": "code",
   "execution_count": 8,
   "metadata": {},
   "outputs": [],
   "source": [
    "# df_median = df_median.sort_values(by=[\"Median Income (dollars)\"], ascending=True)"
   ]
  },
  {
   "cell_type": "code",
   "execution_count": 9,
   "metadata": {},
   "outputs": [
    {
     "data": {
      "text/html": [
       "<div>\n",
       "<style scoped>\n",
       "    .dataframe tbody tr th:only-of-type {\n",
       "        vertical-align: middle;\n",
       "    }\n",
       "\n",
       "    .dataframe tbody tr th {\n",
       "        vertical-align: top;\n",
       "    }\n",
       "\n",
       "    .dataframe thead th {\n",
       "        text-align: right;\n",
       "    }\n",
       "</style>\n",
       "<table border=\"1\" class=\"dataframe\">\n",
       "  <thead>\n",
       "    <tr style=\"text-align: right;\">\n",
       "      <th></th>\n",
       "      <th>Median Income (dollars)</th>\n",
       "      <th>Number of Fast Food</th>\n",
       "    </tr>\n",
       "  </thead>\n",
       "  <tbody>\n",
       "    <tr>\n",
       "      <th>54</th>\n",
       "      <td>0</td>\n",
       "      <td>0</td>\n",
       "    </tr>\n",
       "    <tr>\n",
       "      <th>114</th>\n",
       "      <td>0</td>\n",
       "      <td>0</td>\n",
       "    </tr>\n",
       "    <tr>\n",
       "      <th>0</th>\n",
       "      <td>8975</td>\n",
       "      <td>12</td>\n",
       "    </tr>\n",
       "    <tr>\n",
       "      <th>51</th>\n",
       "      <td>10035</td>\n",
       "      <td>13</td>\n",
       "    </tr>\n",
       "    <tr>\n",
       "      <th>83</th>\n",
       "      <td>15938</td>\n",
       "      <td>14</td>\n",
       "    </tr>\n",
       "  </tbody>\n",
       "</table>\n",
       "</div>"
      ],
      "text/plain": [
       "     Median Income (dollars)  Number of Fast Food\n",
       "54                         0                    0\n",
       "114                        0                    0\n",
       "0                       8975                   12\n",
       "51                     10035                   13\n",
       "83                     15938                   14"
      ]
     },
     "execution_count": 9,
     "metadata": {},
     "output_type": "execute_result"
    }
   ],
   "source": [
    "df_median.head()"
   ]
  },
  {
   "cell_type": "code",
   "execution_count": 10,
   "metadata": {},
   "outputs": [
    {
     "data": {
      "image/png": "[encoded data removed]",
      "text/plain": [
       "<Figure size 432x288 with 1 Axes>"
      ]
     },
     "metadata": {
      "needs_background": "light"
     },
     "output_type": "display_data"
    }
   ],
   "source": [
    "plt.scatter(df_median[\"Median Income (dollars)\"], df_median[\"Number of Fast Food\"])\n",
    "plt.xticks(rotation=90)\n",
    "plt.show()"
   ]
  },
  {
   "cell_type": "code",
   "execution_count": 11,
   "metadata": {},
   "outputs": [
    {
     "name": "stdout",
     "output_type": "stream",
     "text": [
      "The correlation between both factors is -0.34\n",
      "y = -3.3618110808128836e-05x + 5.07\n"
     ]
    },
    {
     "data": {
      "image/png": "[encoded data removed]",
      "text/plain": [
       "<Figure size 432x288 with 1 Axes>"
      ]
     },
     "metadata": {
      "needs_background": "light"
     },
     "output_type": "display_data"
    }
   ],
   "source": [
    "correlation = st.pearsonr(\n",
    "    df_median[\"Median Income (dollars)\"], df_median[\"Number of Fast Food\"]\n",
    ")\n",
    "print(f\"The correlation between both factors is {round(correlation[0],2)}\")\n",
    "\n",
    "\n",
    "from scipy.stats import linregress\n",
    "\n",
    "(slope, intercept, rvalue, pvalue, stderr) = linregress(\n",
    "    df_median[\"Median Income (dollars)\"], df_median[\"Number of Fast Food\"]\n",
    ")\n",
    "regress_values = [\n",
    "    income * slope + intercept for income in df_median[\"Median Income (dollars)\"]\n",
    "]\n",
    "line_eq = \"y = \" + str(slope) + \"x + \" + str(round(intercept, 2))\n",
    "# line_eq\n",
    "print(line_eq)\n",
    "plt.scatter(df_median[\"Median Income (dollars)\"], df_median[\"Number of Fast Food\"])\n",
    "plt.plot(df_median[\"Median Income (dollars)\"], regress_values, \"r-\")\n",
    "plt.title(\"Median Income vs. Number of Fast Food Restaurants\")\n",
    "plt.xlabel(\"Median Income ($)\")\n",
    "plt.ylabel(\"Fast Food Restaurant Density\")\n",
    "plt.show()"
   ]
  },
  {
   "cell_type": "code",
   "execution_count": 12,
   "metadata": {},
   "outputs": [],
   "source": [
    "df_clean = df.replace(\"-\", 0.0)"
   ]
  },
  {
   "cell_type": "code",
   "execution_count": 13,
   "metadata": {},
   "outputs": [
    {
     "name": "stdout",
     "output_type": "stream",
     "text": [
      "The correlation between percentage of Income < $10,000 and number of fast food restaurants is -0.16\n",
      "\n",
      "The correlation between percentage of Income $10,000-$14,999 and number of fast food restaurants is -0.06\n",
      "\n",
      "The correlation between percentage of Income $15,000-$24,999 and number of fast food restaurants is -0.15\n",
      "\n",
      "The correlation between percentage of Income $25,000-$34,999 and number of fast food restaurants is -0.04\n",
      "\n",
      "The correlation between percentage of Income $35,000-$49,999 and number of fast food restaurants is -0.14\n",
      "\n",
      "The correlation between percentage of Income $50,000-$74,999 and number of fast food restaurants is 0.0\n",
      "\n",
      "The correlation between percentage of Income $75,000-$99,999 and number of fast food restaurants is 0.14\n",
      "\n",
      "The correlation between percentage of Income $100,000-$149,999 and number of fast food restaurants is 0.13\n",
      "\n",
      "The correlation between percentage of Income $150,000-$199,999 and number of fast food restaurants is 0.04\n",
      "\n",
      "The correlation between percentage of Income > $200,000 and number of fast food restaurants is 0.03\n",
      "\n"
     ]
    }
   ],
   "source": [
    "income_groups = [\n",
    "    \"Income < $10,000\",\n",
    "    \"Income $10,000-$14,999\",\n",
    "    \"Income $15,000-$24,999\",\n",
    "    \"Income $25,000-$34,999\",\n",
    "    \"Income $35,000-$49,999\",\n",
    "    \"Income $50,000-$74,999\",\n",
    "    \"Income $75,000-$99,999\",\n",
    "    \"Income $100,000-$149,999\",\n",
    "    \"Income $150,000-$199,999\",\n",
    "    \"Income > $200,000\",\n",
    "]\n",
    "\n",
    "for group in income_groups:\n",
    "    correlation = st.pearsonr(\n",
    "        df_clean[group].astype(float), df_median[\"Number of Fast Food\"]\n",
    "    )\n",
    "    print(\n",
    "        f\"The correlation between percentage of {group} and number of fast food restaurants is {round(correlation[0],2)}\\n\"\n",
    "    )"
   ]
  },
  {
   "cell_type": "code",
   "execution_count": 14,
   "metadata": {},
   "outputs": [
    {
     "name": "stdout",
     "output_type": "stream",
     "text": [
      "The correlation between percentage of White Population and number of fast food restaurants is -0.14\n",
      "\n",
      "The correlation between percentage of Black or African American Population and number of fast food restaurants is 0.01\n",
      "\n",
      "The correlation between percentage of American Indian and Alaska Native Population and number of fast food restaurants is -0.11\n",
      "\n",
      "The correlation between percentage of Asian Population and number of fast food restaurants is -0.02\n",
      "\n",
      "The correlation between percentage of Native Hawaiian and Other Pacific Islander population and number of fast food restaurants is -0.04\n",
      "\n",
      "The correlation between percentage of Some Other Race Population and number of fast food restaurants is -0.12\n",
      "\n"
     ]
    }
   ],
   "source": [
    "race_groups = [\n",
    "    \"White Population\",\n",
    "    \"Black or African American Population\",\n",
    "    \"American Indian and Alaska Native Population\",\n",
    "    \"Asian Population\",\n",
    "    \"Native Hawaiian and Other Pacific Islander population\",\n",
    "    \"Some Other Race Population\",\n",
    "]\n",
    "\n",
    "for group in race_groups:\n",
    "    correlation = st.pearsonr(\n",
    "        df_clean[group].astype(float), df_median[\"Number of Fast Food\"]\n",
    "    )\n",
    "    print(\n",
    "        f\"The correlation between percentage of {group} and number of fast food restaurants is {round(correlation[0],2)}\\n\"\n",
    "    )"
   ]
  },
  {
   "cell_type": "code",
   "execution_count": 15,
   "metadata": {},
   "outputs": [],
   "source": [
    "# Add heatmap for median income per census tract"
   ]
  },
  {
   "cell_type": "code",
   "execution_count": 16,
   "metadata": {},
   "outputs": [],
   "source": [
    "# Can do scatterplots of racial groups and median income to get an idea of economic/racial equity in Austin, as well (just as an extra)\n",
    "# Treat this is a separate notebook and branch"
   ]
  }
 ],
 "metadata": {
  "environment": {
   "name": "common-cpu.m54",
   "type": "gcloud",
   "uri": "gcr.io/deeplearning-platform-release/base-cpu:m54"
  },
  "kernelspec": {
   "display_name": "Python 3",
   "language": "python",
   "name": "python3"
  },
  "language_info": {
   "codemirror_mode": {
    "name": "ipython",
    "version": 3
   },
   "file_extension": ".py",
   "mimetype": "text/x-python",
   "name": "python",
   "nbconvert_exporter": "python",
   "pygments_lexer": "ipython3",
   "version": "3.7.8"
  }
 },
 "nbformat": 4,
 "nbformat_minor": 4
}
