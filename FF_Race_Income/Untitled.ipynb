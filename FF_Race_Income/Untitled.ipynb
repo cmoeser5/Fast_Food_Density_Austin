{
 "cells": [
  {
   "cell_type": "code",
   "execution_count": 1,
   "metadata": {},
   "outputs": [],
   "source": [
    "import pandas as pd\n",
    "import matplotlib.pyplot as plt"
   ]
  },
  {
   "cell_type": "code",
   "execution_count": 2,
   "metadata": {},
   "outputs": [],
   "source": [
    "datafile = \"../Data/mrgdata_food.csv\""
   ]
  },
  {
   "cell_type": "code",
   "execution_count": 3,
   "metadata": {},
   "outputs": [],
   "source": [
    "df = pd.read_csv(datafile)"
   ]
  },
  {
   "cell_type": "code",
   "execution_count": 4,
   "metadata": {},
   "outputs": [
    {
     "name": "stdout",
     "output_type": "stream",
     "text": [
      "Unnamed: 0\n",
      "Unnamed: 0.1\n",
      "Year_bp\n",
      "StateAbbr_bp\n",
      "StateDesc_bp\n",
      "CityName_bp\n",
      "GeographicLevel_bp\n",
      "Category_bp\n",
      "UniqueID_bp\n",
      "Measure_bp\n",
      "Data_Value_bp\n",
      "GeoLocation_bp\n",
      "MeasureId_bp\n",
      "Census Tract\n",
      "Lat_bp\n",
      "Lng_bp\n",
      "Year_chol\n",
      "StateAbbr_chol\n",
      "StateDesc_chol\n",
      "CityName_chol\n",
      "GeographicLevel_chol\n",
      "Category_chol\n",
      "UniqueID_chol\n",
      "Measure_chol\n",
      "Data_Value_chol\n",
      "GeoLocation_chol\n",
      "MeasureId_chol\n",
      "Lat_chol\n",
      "Lng_chol\n",
      "Year_dbt\n",
      "StateAbbr_dbt\n",
      "StateDesc_dbt\n",
      "CityName_dbt\n",
      "GeographicLevel_dbt\n",
      "Category_dbt\n",
      "UniqueID_dbt\n",
      "Measure_dbt\n",
      "Data_Value_dbt\n",
      "GeoLocation_dbt\n",
      "MeasureId_dbt\n",
      "Lat_dbt\n",
      "Lng_dbt\n",
      "Year_obs\n",
      "StateAbbr_obs\n",
      "StateDesc_obs\n",
      "CityName_obs\n",
      "GeographicLevel_obs\n",
      "Category_obs\n",
      "UniqueID_obs\n",
      "Measure_obs\n",
      "Data_Value_obs\n",
      "GeoLocation_obs\n",
      "MeasureId_obs\n",
      "Lat_obs\n",
      "Lng_obs\n",
      "Total 18+ Population\n",
      "Total 18+ Male Population\n",
      "Total Male 18 to 24 years\n",
      "Total Male 18 to 24 years Less than 9th grade\n",
      "Total Male 18 to 24 years 9th to 12th grade, no diploma\n",
      "Total Male 18 to 24 years High school graduate\n",
      "Total Male 18 to 24 years Some college, no degree\n",
      "Total Male 18 to 24 years Associate's degree\n",
      "Total Male 18 to 24 years Bachelor's degree\n",
      "Total Male 18 to 24 years Graduate or professional degree\n",
      "Total Male 25 to 34 years\n",
      "Total Male 25 to 34 years Less than 9th grade\n",
      "Total Male 25 to 34 years 9th to 12th grade, no diploma\n",
      "Total Male 25 to 34 years High school graduate\n",
      "Total Male 25 to 34 years Some college, no degree\n",
      "Total Male 25 to 34 years Associate's degree\n",
      "Total Male 25 to 34 years Bachelor's degree\n",
      "Total Male 25 to 34 years Graduate or professional degree\n",
      "Total Male 35 to 44 years\n",
      "Total Male 35 to 44 years Less than 9th grade\n",
      "Total Male 35 to 44 years 9th to 12th grade, no diploma\n",
      "Total Male 35 to 44 years High school graduate\n",
      "Total Male 35 to 44 years Some college, no degree\n",
      "Total Male 35 to 44 years Associate's degree\n",
      "Total Male 35 to 44 years Bachelor's degree\n",
      "Total Male 35 to 44 years Graduate or professional degree\n",
      "Total Male 45 to 64 years\n",
      "Total Male 45 to 64 years Less than 9th grade\n",
      "Total Male 45 to 64 years 9th to 12th grade, no diploma\n",
      "Total Male 45 to 64 years High school graduate\n",
      "Total Male 45 to 64 years Some college, no degree\n",
      "Total Male 45 to 64 years Associate's degree\n",
      "Total Male 45 to 64 years Bachelor's degree\n",
      "Total Male 45 to 64 years Graduate or professional degree\n",
      "Total Male 65 years and over\n",
      "Total Male 65 years and over Less than 9th grade\n",
      "Total Male 65 years and over 9th to 12th grade, no diploma\n",
      "Total Male 65 years and over High school graduate\n",
      "Total Male 65 years and over Some college, no degree\n",
      "Total Male 65 years and over Associate's degree\n",
      "Total Male 65 years and over Bachelor's degree\n",
      "Total Male 65 years and over Graduate or professional degree\n",
      "Total 18+ Female Population\n",
      "Total Female 18 to 24 years\n",
      "Total Female 18 to 24 years Less than 9th grade\n",
      "Total Female 18 to 24 years 9th to 12th grade, no diploma\n",
      "Total Female 18 to 24 years High school graduate\n",
      "Total Female 18 to 24 years Some college, no degree\n",
      "Total Female 18 to 24 years Associate's degree\n",
      "Total Female 18 to 24 years Bachelor's degree\n",
      "Total Female 18 to 24 years Graduate or professional degree\n",
      "Total Female 25 to 34 years\n",
      "Total Female 25 to 34 years Less than 9th grade\n",
      "Total Female 25 to 34 years 9th to 12th grade, no diploma\n",
      "Total Female 25 to 34 years High school graduate\n",
      "Total Female 25 to 34 years Some college, no degree\n",
      "Total Female 25 to 34 years Associate's degree\n",
      "Total Female 25 to 34 years Bachelor's degree\n",
      "Total Female 25 to 34 years Graduate or professional degree\n",
      "Total Female 35 to 44 years\n",
      "Total Female 35 to 44 years Less than 9th grade\n",
      "Total Female 35 to 44 years 9th to 12th grade, no diploma\n",
      "Total Female 35 to 44 years High school graduate\n",
      "Total Female 35 to 44 years Some college, no degree\n",
      "Total Female 35 to 44 years Associate's degree\n",
      "Total Female 35 to 44 years Bachelor's degree\n",
      "Total Female 35 to 44 years Graduate or professional degree\n",
      "Total Female 45 to 64 years\n",
      "Total Female 45 to 64 years Less than 9th grade\n",
      "Total Female 45 to 64 years 9th to 12th grade, no diploma\n",
      "Total Female 45 to 64 years High school graduate\n",
      "Total Female 45 to 64 years Some college, no degree\n",
      "Total Female 45 to 64 years Associate's degree\n",
      "Total Female 45 to 64 years Bachelor's degree\n",
      "Total Female 45 to 64 years Graduate or professional degree\n",
      "Total Female 65 years and over\n",
      "Total Female 65 years and over Less than 9th grade\n",
      "Total Female 65 years and over 9th to 12th grade, no diploma\n",
      "Total Female 65 years and over High school graduate\n",
      "Total Female 65 years and over Some college, no degree\n",
      "Total Female 65 years and over Associate's degree\n",
      "Total Female 65 years and over Bachelor's degree\n",
      "Total Female 65 years and over Graduate or professional degree\n",
      "GEO_ID_x\n",
      "Total Households\n",
      "Income < $10,000\n",
      "Income $10,000-$14,999\n",
      "Income $15,000-$24,999\n",
      "Income $25,000-$34,999\n",
      "Income $35,000-$49,999\n",
      "Income $50,000-$74,999\n",
      "Income $75,000-$99,999\n",
      "Income $100,000-$149,999\n",
      "Income $150,000-$199,999\n",
      "Income > $200,000\n",
      "Median Income (dollars)\n",
      "Mean Income (dollars)\n",
      "GEO_ID_y\n",
      "Total Population\n",
      "Total Male\n",
      "Total Female\n",
      "White Population\n",
      "Black or African American Population\n",
      "American Indian and Alaska Native Population\n",
      "Asian Population\n",
      "Native Hawaiian and Other Pacific Islander population\n",
      "Some Other Race Population\n",
      "GEO_ID\n",
      "Number of Fast Food\n"
     ]
    }
   ],
   "source": [
    "for x in df.columns:\n",
    "    print(x)"
   ]
  },
  {
   "cell_type": "code",
   "execution_count": 5,
   "metadata": {},
   "outputs": [],
   "source": [
    "race_columns = ['White Population',\n",
    "       'Black or African American Population',\n",
    "       'American Indian and Alaska Native Population', 'Asian Population',\n",
    "       'Native Hawaiian and Other Pacific Islander population',\n",
    "       'Some Other Race Population']\n",
    "income_columns = [\"Income < $10,000\",\"Income $10,000-$14,999\",\n",
    "\"Income $15,000-$24,999\",\"Income $25,000-$34,999\",\n",
    "\"Income $35,000-$49,999\",\n",
    "\"Income $50,000-$74,999\",\n",
    "\"Income $75,000-$99,999\",\n",
    "\"Income $100,000-$149,999\",\n",
    "\"Income $150,000-$199,999\",\n",
    "\"Income > $200,000\",\n",
    "\"Median Income (dollars)\",\n",
    "\"Mean Income (dollars)\"]"
   ]
  },
  {
   "cell_type": "code",
   "execution_count": 6,
   "metadata": {},
   "outputs": [],
   "source": [
    "# 1. scatterplot of median income column with number of fast-food restaurants (get regression line, etc)\n",
    "# 2. see which income bracket is most highly correlated with number of fast food rest. (highest r^2?) (for which does the percentage of households in that bracket best predict)"
   ]
  },
  {
   "cell_type": "code",
   "execution_count": 7,
   "metadata": {},
   "outputs": [
    {
     "data": {
      "text/plain": [
       "0        8975\n",
       "1       62198\n",
       "2       77045\n",
       "3      110833\n",
       "4       75368\n",
       "        ...  \n",
       "186     59835\n",
       "187     55317\n",
       "188     78952\n",
       "189     56078\n",
       "190     54542\n",
       "Name: Median Income (dollars), Length: 191, dtype: object"
      ]
     },
     "execution_count": 7,
     "metadata": {},
     "output_type": "execute_result"
    }
   ],
   "source": [
    "df[\"Median Income (dollars)\"]"
   ]
  },
  {
   "cell_type": "code",
   "execution_count": 8,
   "metadata": {},
   "outputs": [],
   "source": [
    "# plt.scatter(x_axis, data, marker=\"X\", facecolors=\"red\", edgecolors=\"black\", alpha=0.75, s=x_axis)\n",
    "# plt.ylim(0, 1)\n",
    "# plt.xlim(0, x_limit)\n",
    "# plt.show()"
   ]
  },
  {
   "cell_type": "code",
   "execution_count": 9,
   "metadata": {},
   "outputs": [
    {
     "data": {
      "image/png": "[encoded data removed]",
      "text/plain": [
       "<Figure size 432x288 with 1 Axes>"
      ]
     },
     "metadata": {
      "needs_background": "light"
     },
     "output_type": "display_data"
    }
   ],
   "source": [
    "plt.scatter(df[\"Median Income (dollars)\"], df[\"Number of Fast Food\"])\n",
    "plt.xticks(rotation=90)\n",
    "plt.show()"
   ]
  },
  {
   "cell_type": "code",
   "execution_count": null,
   "metadata": {},
   "outputs": [],
   "source": []
  },
  {
   "cell_type": "code",
   "execution_count": null,
   "metadata": {},
   "outputs": [],
   "source": []
  }
 ],
 "metadata": {
  "environment": {
   "name": "common-cpu.m54",
   "type": "gcloud",
   "uri": "gcr.io/deeplearning-platform-release/base-cpu:m54"
  },
  "kernelspec": {
   "display_name": "Python 3",
   "language": "python",
   "name": "python3"
  },
  "language_info": {
   "codemirror_mode": {
    "name": "ipython",
    "version": 3
   },
   "file_extension": ".py",
   "mimetype": "text/x-python",
   "name": "python",
   "nbconvert_exporter": "python",
   "pygments_lexer": "ipython3",
   "version": "3.7.8"
  }
 },
 "nbformat": 4,
 "nbformat_minor": 4
}
